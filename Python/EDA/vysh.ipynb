{
 "cells": [
  {
   "cell_type": "code",
   "execution_count": 15,
   "metadata": {
    "id": "Rm2vv8iQMaRO"
   },
   "outputs": [],
   "source": [
    "import pandas as pd"
   ]
  },
  {
   "cell_type": "code",
   "execution_count": 16,
   "metadata": {
    "id": "D9Ao6M6r66jZ"
   },
   "outputs": [],
   "source": [
    "import sqlite3"
   ]
  },
  {
   "cell_type": "code",
   "execution_count": 17,
   "metadata": {
    "id": "qfAlPQggNX4i"
   },
   "outputs": [],
   "source": [
    "emp = pd.read_csv('C:\\\\Users\\\\Kumar\\\\Desktop\\\\New folder (2)\\\\Data-Science\\\\Python\\\\EDA\\\\employees.csv')\n"
   ]
  },
  {
   "cell_type": "markdown",
   "metadata": {},
   "source": []
  },
  {
   "cell_type": "code",
   "execution_count": 18,
   "metadata": {
    "id": "dTwJXljpNcmG"
   },
   "outputs": [
    {
     "data": {
      "text/html": [
       "<div>\n",
       "<style scoped>\n",
       "    .dataframe tbody tr th:only-of-type {\n",
       "        vertical-align: middle;\n",
       "    }\n",
       "\n",
       "    .dataframe tbody tr th {\n",
       "        vertical-align: top;\n",
       "    }\n",
       "\n",
       "    .dataframe thead th {\n",
       "        text-align: right;\n",
       "    }\n",
       "</style>\n",
       "<table border=\"1\" class=\"dataframe\">\n",
       "  <thead>\n",
       "    <tr style=\"text-align: right;\">\n",
       "      <th></th>\n",
       "      <th>emp_no</th>\n",
       "      <th>birth_date</th>\n",
       "      <th>first_name</th>\n",
       "      <th>last_name</th>\n",
       "      <th>gender</th>\n",
       "      <th>hire_date</th>\n",
       "    </tr>\n",
       "  </thead>\n",
       "  <tbody>\n",
       "    <tr>\n",
       "      <th>9</th>\n",
       "      <td>10010</td>\n",
       "      <td>1963-06-01</td>\n",
       "      <td>Duangkaew</td>\n",
       "      <td>Piveteau</td>\n",
       "      <td>F</td>\n",
       "      <td>1989-08-24</td>\n",
       "    </tr>\n",
       "  </tbody>\n",
       "</table>\n",
       "</div>"
      ],
      "text/plain": [
       "   emp_no  birth_date first_name last_name gender   hire_date\n",
       "9   10010  1963-06-01  Duangkaew  Piveteau      F  1989-08-24"
      ]
     },
     "execution_count": 18,
     "metadata": {},
     "output_type": "execute_result"
    }
   ],
   "source": [
    "emp[emp['emp_no']==10010]"
   ]
  },
  {
   "cell_type": "code",
   "execution_count": 19,
   "metadata": {
    "id": "GLVg2HfRNjBd"
   },
   "outputs": [
    {
     "data": {
      "text/html": [
       "<div>\n",
       "<style scoped>\n",
       "    .dataframe tbody tr th:only-of-type {\n",
       "        vertical-align: middle;\n",
       "    }\n",
       "\n",
       "    .dataframe tbody tr th {\n",
       "        vertical-align: top;\n",
       "    }\n",
       "\n",
       "    .dataframe thead th {\n",
       "        text-align: right;\n",
       "    }\n",
       "</style>\n",
       "<table border=\"1\" class=\"dataframe\">\n",
       "  <thead>\n",
       "    <tr style=\"text-align: right;\">\n",
       "      <th></th>\n",
       "      <th>emp_no</th>\n",
       "      <th>birth_date</th>\n",
       "      <th>first_name</th>\n",
       "      <th>last_name</th>\n",
       "      <th>gender</th>\n",
       "      <th>hire_date</th>\n",
       "    </tr>\n",
       "  </thead>\n",
       "  <tbody>\n",
       "    <tr>\n",
       "      <th>9</th>\n",
       "      <td>10010</td>\n",
       "      <td>1963-06-01</td>\n",
       "      <td>Duangkaew</td>\n",
       "      <td>Piveteau</td>\n",
       "      <td>F</td>\n",
       "      <td>1989-08-24</td>\n",
       "    </tr>\n",
       "    <tr>\n",
       "      <th>10</th>\n",
       "      <td>10011</td>\n",
       "      <td>1953-11-07</td>\n",
       "      <td>Mary</td>\n",
       "      <td>Sluis</td>\n",
       "      <td>F</td>\n",
       "      <td>1990-01-22</td>\n",
       "    </tr>\n",
       "  </tbody>\n",
       "</table>\n",
       "</div>"
      ],
      "text/plain": [
       "    emp_no  birth_date first_name last_name gender   hire_date\n",
       "9    10010  1963-06-01  Duangkaew  Piveteau      F  1989-08-24\n",
       "10   10011  1953-11-07       Mary     Sluis      F  1990-01-22"
      ]
     },
     "execution_count": 19,
     "metadata": {},
     "output_type": "execute_result"
    }
   ],
   "source": [
    "emp_no_list = [10010,10011]\n",
    "emp[emp['emp_no'].isin(emp_no_list)]"
   ]
  },
  {
   "cell_type": "code",
   "execution_count": 20,
   "metadata": {
    "id": "DmTG516B7FLM"
   },
   "outputs": [
    {
     "data": {
      "text/plain": [
       "1000"
      ]
     },
     "execution_count": 20,
     "metadata": {},
     "output_type": "execute_result"
    }
   ],
   "source": [
    "\n",
    "conn = sqlite3.connect(':memory:')\n",
    "emp.to_sql('employees', conn, index=False, if_exists='replace') \n"
   ]
  },
  {
   "cell_type": "code",
   "execution_count": 21,
   "metadata": {
    "id": "GLEIzXeGPo1r"
   },
   "outputs": [
    {
     "data": {
      "text/plain": [
       "(1000, 6)"
      ]
     },
     "execution_count": 21,
     "metadata": {},
     "output_type": "execute_result"
    }
   ],
   "source": [
    "emp.shape"
   ]
  },
  {
   "cell_type": "code",
   "execution_count": 22,
   "metadata": {
    "id": "7MHI3PdoNvUe"
   },
   "outputs": [
    {
     "data": {
      "text/html": [
       "<div>\n",
       "<style scoped>\n",
       "    .dataframe tbody tr th:only-of-type {\n",
       "        vertical-align: middle;\n",
       "    }\n",
       "\n",
       "    .dataframe tbody tr th {\n",
       "        vertical-align: top;\n",
       "    }\n",
       "\n",
       "    .dataframe thead th {\n",
       "        text-align: right;\n",
       "    }\n",
       "</style>\n",
       "<table border=\"1\" class=\"dataframe\">\n",
       "  <thead>\n",
       "    <tr style=\"text-align: right;\">\n",
       "      <th></th>\n",
       "      <th>emp_no</th>\n",
       "      <th>birth_date</th>\n",
       "      <th>first_name</th>\n",
       "      <th>last_name</th>\n",
       "      <th>gender</th>\n",
       "      <th>hire_date</th>\n",
       "    </tr>\n",
       "  </thead>\n",
       "  <tbody>\n",
       "    <tr>\n",
       "      <th>9</th>\n",
       "      <td>10010</td>\n",
       "      <td>1963-06-01</td>\n",
       "      <td>Duangkaew</td>\n",
       "      <td>Piveteau</td>\n",
       "      <td>F</td>\n",
       "      <td>1989-08-24</td>\n",
       "    </tr>\n",
       "    <tr>\n",
       "      <th>10</th>\n",
       "      <td>10011</td>\n",
       "      <td>1953-11-07</td>\n",
       "      <td>Mary</td>\n",
       "      <td>Sluis</td>\n",
       "      <td>F</td>\n",
       "      <td>1990-01-22</td>\n",
       "    </tr>\n",
       "  </tbody>\n",
       "</table>\n",
       "</div>"
      ],
      "text/plain": [
       "    emp_no  birth_date first_name last_name gender   hire_date\n",
       "9    10010  1963-06-01  Duangkaew  Piveteau      F  1989-08-24\n",
       "10   10011  1953-11-07       Mary     Sluis      F  1990-01-22"
      ]
     },
     "execution_count": 22,
     "metadata": {},
     "output_type": "execute_result"
    }
   ],
   "source": [
    "emp[emp['emp_no'].isin(emp_no_list)]"
   ]
  },
  {
   "cell_type": "code",
   "execution_count": 23,
   "metadata": {
    "id": "_rqmvkqdOIXc"
   },
   "outputs": [],
   "source": [
    "salaries = pd.read_csv('C:\\\\Users\\\\Kumar\\\\Desktop\\\\New folder (2)\\\\Data-Science\\\\Python\\\\EDA\\\\Salaries.csv')\n"
   ]
  },
  {
   "cell_type": "code",
   "execution_count": 24,
   "metadata": {
    "id": "9hS-jILAPmm9"
   },
   "outputs": [
    {
     "data": {
      "text/plain": [
       "(1000, 4)"
      ]
     },
     "execution_count": 24,
     "metadata": {},
     "output_type": "execute_result"
    }
   ],
   "source": [
    "salaries.shape"
   ]
  },
  {
   "cell_type": "code",
   "execution_count": 25,
   "metadata": {
    "id": "TQ_W7WtAPD3P"
   },
   "outputs": [
    {
     "data": {
      "text/html": [
       "<div>\n",
       "<style scoped>\n",
       "    .dataframe tbody tr th:only-of-type {\n",
       "        vertical-align: middle;\n",
       "    }\n",
       "\n",
       "    .dataframe tbody tr th {\n",
       "        vertical-align: top;\n",
       "    }\n",
       "\n",
       "    .dataframe thead th {\n",
       "        text-align: right;\n",
       "    }\n",
       "</style>\n",
       "<table border=\"1\" class=\"dataframe\">\n",
       "  <thead>\n",
       "    <tr style=\"text-align: right;\">\n",
       "      <th></th>\n",
       "      <th>emp_no</th>\n",
       "      <th>salary</th>\n",
       "      <th>from_date</th>\n",
       "      <th>to_date</th>\n",
       "    </tr>\n",
       "  </thead>\n",
       "  <tbody>\n",
       "    <tr>\n",
       "      <th>106</th>\n",
       "      <td>10010</td>\n",
       "      <td>72488</td>\n",
       "      <td>1996-11-24</td>\n",
       "      <td>1997-11-24</td>\n",
       "    </tr>\n",
       "    <tr>\n",
       "      <th>107</th>\n",
       "      <td>10010</td>\n",
       "      <td>74347</td>\n",
       "      <td>1997-11-24</td>\n",
       "      <td>1998-11-24</td>\n",
       "    </tr>\n",
       "    <tr>\n",
       "      <th>108</th>\n",
       "      <td>10010</td>\n",
       "      <td>75405</td>\n",
       "      <td>1998-11-24</td>\n",
       "      <td>1999-11-24</td>\n",
       "    </tr>\n",
       "    <tr>\n",
       "      <th>109</th>\n",
       "      <td>10010</td>\n",
       "      <td>78194</td>\n",
       "      <td>1999-11-24</td>\n",
       "      <td>2000-11-23</td>\n",
       "    </tr>\n",
       "    <tr>\n",
       "      <th>110</th>\n",
       "      <td>10010</td>\n",
       "      <td>79580</td>\n",
       "      <td>2000-11-23</td>\n",
       "      <td>2001-11-23</td>\n",
       "    </tr>\n",
       "    <tr>\n",
       "      <th>111</th>\n",
       "      <td>10010</td>\n",
       "      <td>80324</td>\n",
       "      <td>2001-11-23</td>\n",
       "      <td>9999-01-01</td>\n",
       "    </tr>\n",
       "    <tr>\n",
       "      <th>112</th>\n",
       "      <td>10011</td>\n",
       "      <td>42365</td>\n",
       "      <td>1990-01-22</td>\n",
       "      <td>1991-01-22</td>\n",
       "    </tr>\n",
       "    <tr>\n",
       "      <th>113</th>\n",
       "      <td>10011</td>\n",
       "      <td>44200</td>\n",
       "      <td>1991-01-22</td>\n",
       "      <td>1992-01-22</td>\n",
       "    </tr>\n",
       "    <tr>\n",
       "      <th>114</th>\n",
       "      <td>10011</td>\n",
       "      <td>48214</td>\n",
       "      <td>1992-01-22</td>\n",
       "      <td>1993-01-21</td>\n",
       "    </tr>\n",
       "    <tr>\n",
       "      <th>115</th>\n",
       "      <td>10011</td>\n",
       "      <td>50927</td>\n",
       "      <td>1993-01-21</td>\n",
       "      <td>1994-01-21</td>\n",
       "    </tr>\n",
       "    <tr>\n",
       "      <th>116</th>\n",
       "      <td>10011</td>\n",
       "      <td>51470</td>\n",
       "      <td>1994-01-21</td>\n",
       "      <td>1995-01-21</td>\n",
       "    </tr>\n",
       "    <tr>\n",
       "      <th>117</th>\n",
       "      <td>10011</td>\n",
       "      <td>54545</td>\n",
       "      <td>1995-01-21</td>\n",
       "      <td>1996-01-21</td>\n",
       "    </tr>\n",
       "    <tr>\n",
       "      <th>118</th>\n",
       "      <td>10011</td>\n",
       "      <td>56753</td>\n",
       "      <td>1996-01-21</td>\n",
       "      <td>1996-11-09</td>\n",
       "    </tr>\n",
       "  </tbody>\n",
       "</table>\n",
       "</div>"
      ],
      "text/plain": [
       "     emp_no  salary   from_date     to_date\n",
       "106   10010   72488  1996-11-24  1997-11-24\n",
       "107   10010   74347  1997-11-24  1998-11-24\n",
       "108   10010   75405  1998-11-24  1999-11-24\n",
       "109   10010   78194  1999-11-24  2000-11-23\n",
       "110   10010   79580  2000-11-23  2001-11-23\n",
       "111   10010   80324  2001-11-23  9999-01-01\n",
       "112   10011   42365  1990-01-22  1991-01-22\n",
       "113   10011   44200  1991-01-22  1992-01-22\n",
       "114   10011   48214  1992-01-22  1993-01-21\n",
       "115   10011   50927  1993-01-21  1994-01-21\n",
       "116   10011   51470  1994-01-21  1995-01-21\n",
       "117   10011   54545  1995-01-21  1996-01-21\n",
       "118   10011   56753  1996-01-21  1996-11-09"
      ]
     },
     "execution_count": 25,
     "metadata": {},
     "output_type": "execute_result"
    }
   ],
   "source": [
    "\n",
    "salaries[salaries['emp_no'].isin(emp_no_list)]"
   ]
  },
  {
   "cell_type": "code",
   "execution_count": 26,
   "metadata": {
    "collapsed": true,
    "id": "wW-cZoUxPHd4"
   },
   "outputs": [
    {
     "data": {
      "text/html": [
       "<div>\n",
       "<style scoped>\n",
       "    .dataframe tbody tr th:only-of-type {\n",
       "        vertical-align: middle;\n",
       "    }\n",
       "\n",
       "    .dataframe tbody tr th {\n",
       "        vertical-align: top;\n",
       "    }\n",
       "\n",
       "    .dataframe thead th {\n",
       "        text-align: right;\n",
       "    }\n",
       "</style>\n",
       "<table border=\"1\" class=\"dataframe\">\n",
       "  <thead>\n",
       "    <tr style=\"text-align: right;\">\n",
       "      <th></th>\n",
       "      <th>emp_no</th>\n",
       "      <th>salary</th>\n",
       "      <th>from_date</th>\n",
       "      <th>to_date</th>\n",
       "      <th>birth_date</th>\n",
       "      <th>first_name</th>\n",
       "      <th>last_name</th>\n",
       "      <th>gender</th>\n",
       "      <th>hire_date</th>\n",
       "    </tr>\n",
       "  </thead>\n",
       "  <tbody>\n",
       "    <tr>\n",
       "      <th>0</th>\n",
       "      <td>10001</td>\n",
       "      <td>60117</td>\n",
       "      <td>1986-06-26</td>\n",
       "      <td>1987-06-26</td>\n",
       "      <td>1953-09-02</td>\n",
       "      <td>Georgi</td>\n",
       "      <td>Facello</td>\n",
       "      <td>M</td>\n",
       "      <td>1986-06-26</td>\n",
       "    </tr>\n",
       "    <tr>\n",
       "      <th>1</th>\n",
       "      <td>10001</td>\n",
       "      <td>62102</td>\n",
       "      <td>1987-06-26</td>\n",
       "      <td>1988-06-25</td>\n",
       "      <td>1953-09-02</td>\n",
       "      <td>Georgi</td>\n",
       "      <td>Facello</td>\n",
       "      <td>M</td>\n",
       "      <td>1986-06-26</td>\n",
       "    </tr>\n",
       "    <tr>\n",
       "      <th>2</th>\n",
       "      <td>10001</td>\n",
       "      <td>66074</td>\n",
       "      <td>1988-06-25</td>\n",
       "      <td>1989-06-25</td>\n",
       "      <td>1953-09-02</td>\n",
       "      <td>Georgi</td>\n",
       "      <td>Facello</td>\n",
       "      <td>M</td>\n",
       "      <td>1986-06-26</td>\n",
       "    </tr>\n",
       "    <tr>\n",
       "      <th>3</th>\n",
       "      <td>10001</td>\n",
       "      <td>66596</td>\n",
       "      <td>1989-06-25</td>\n",
       "      <td>1990-06-25</td>\n",
       "      <td>1953-09-02</td>\n",
       "      <td>Georgi</td>\n",
       "      <td>Facello</td>\n",
       "      <td>M</td>\n",
       "      <td>1986-06-26</td>\n",
       "    </tr>\n",
       "    <tr>\n",
       "      <th>4</th>\n",
       "      <td>10001</td>\n",
       "      <td>66961</td>\n",
       "      <td>1990-06-25</td>\n",
       "      <td>1991-06-25</td>\n",
       "      <td>1953-09-02</td>\n",
       "      <td>Georgi</td>\n",
       "      <td>Facello</td>\n",
       "      <td>M</td>\n",
       "      <td>1986-06-26</td>\n",
       "    </tr>\n",
       "    <tr>\n",
       "      <th>...</th>\n",
       "      <td>...</td>\n",
       "      <td>...</td>\n",
       "      <td>...</td>\n",
       "      <td>...</td>\n",
       "      <td>...</td>\n",
       "      <td>...</td>\n",
       "      <td>...</td>\n",
       "      <td>...</td>\n",
       "      <td>...</td>\n",
       "    </tr>\n",
       "    <tr>\n",
       "      <th>995</th>\n",
       "      <td>10100</td>\n",
       "      <td>70464</td>\n",
       "      <td>1998-09-18</td>\n",
       "      <td>1999-09-18</td>\n",
       "      <td>1953-04-21</td>\n",
       "      <td>Hironobu</td>\n",
       "      <td>Haraldson</td>\n",
       "      <td>F</td>\n",
       "      <td>1987-09-21</td>\n",
       "    </tr>\n",
       "    <tr>\n",
       "      <th>996</th>\n",
       "      <td>10100</td>\n",
       "      <td>72343</td>\n",
       "      <td>1999-09-18</td>\n",
       "      <td>2000-09-17</td>\n",
       "      <td>1953-04-21</td>\n",
       "      <td>Hironobu</td>\n",
       "      <td>Haraldson</td>\n",
       "      <td>F</td>\n",
       "      <td>1987-09-21</td>\n",
       "    </tr>\n",
       "    <tr>\n",
       "      <th>997</th>\n",
       "      <td>10100</td>\n",
       "      <td>74365</td>\n",
       "      <td>2000-09-17</td>\n",
       "      <td>2001-09-17</td>\n",
       "      <td>1953-04-21</td>\n",
       "      <td>Hironobu</td>\n",
       "      <td>Haraldson</td>\n",
       "      <td>F</td>\n",
       "      <td>1987-09-21</td>\n",
       "    </tr>\n",
       "    <tr>\n",
       "      <th>998</th>\n",
       "      <td>10100</td>\n",
       "      <td>74957</td>\n",
       "      <td>2001-09-17</td>\n",
       "      <td>9999-01-01</td>\n",
       "      <td>1953-04-21</td>\n",
       "      <td>Hironobu</td>\n",
       "      <td>Haraldson</td>\n",
       "      <td>F</td>\n",
       "      <td>1987-09-21</td>\n",
       "    </tr>\n",
       "    <tr>\n",
       "      <th>999</th>\n",
       "      <td>10101</td>\n",
       "      <td>66591</td>\n",
       "      <td>1998-10-14</td>\n",
       "      <td>1999-10-14</td>\n",
       "      <td>1952-04-15</td>\n",
       "      <td>Perla</td>\n",
       "      <td>Heyers</td>\n",
       "      <td>F</td>\n",
       "      <td>1992-12-28</td>\n",
       "    </tr>\n",
       "  </tbody>\n",
       "</table>\n",
       "<p>1000 rows × 9 columns</p>\n",
       "</div>"
      ],
      "text/plain": [
       "     emp_no  salary   from_date     to_date  birth_date first_name  last_name  \\\n",
       "0     10001   60117  1986-06-26  1987-06-26  1953-09-02     Georgi    Facello   \n",
       "1     10001   62102  1987-06-26  1988-06-25  1953-09-02     Georgi    Facello   \n",
       "2     10001   66074  1988-06-25  1989-06-25  1953-09-02     Georgi    Facello   \n",
       "3     10001   66596  1989-06-25  1990-06-25  1953-09-02     Georgi    Facello   \n",
       "4     10001   66961  1990-06-25  1991-06-25  1953-09-02     Georgi    Facello   \n",
       "..      ...     ...         ...         ...         ...        ...        ...   \n",
       "995   10100   70464  1998-09-18  1999-09-18  1953-04-21   Hironobu  Haraldson   \n",
       "996   10100   72343  1999-09-18  2000-09-17  1953-04-21   Hironobu  Haraldson   \n",
       "997   10100   74365  2000-09-17  2001-09-17  1953-04-21   Hironobu  Haraldson   \n",
       "998   10100   74957  2001-09-17  9999-01-01  1953-04-21   Hironobu  Haraldson   \n",
       "999   10101   66591  1998-10-14  1999-10-14  1952-04-15      Perla     Heyers   \n",
       "\n",
       "    gender   hire_date  \n",
       "0        M  1986-06-26  \n",
       "1        M  1986-06-26  \n",
       "2        M  1986-06-26  \n",
       "3        M  1986-06-26  \n",
       "4        M  1986-06-26  \n",
       "..     ...         ...  \n",
       "995      F  1987-09-21  \n",
       "996      F  1987-09-21  \n",
       "997      F  1987-09-21  \n",
       "998      F  1987-09-21  \n",
       "999      F  1992-12-28  \n",
       "\n",
       "[1000 rows x 9 columns]"
      ]
     },
     "execution_count": 26,
     "metadata": {},
     "output_type": "execute_result"
    }
   ],
   "source": [
    "\n",
    "salaries.merge(emp,on='emp_no')\n",
    "\n"
   ]
  },
  {
   "cell_type": "code",
   "execution_count": 27,
   "metadata": {
    "id": "E7ECYQ-_PePN"
   },
   "outputs": [],
   "source": [
    "titles = pd.read_csv('C:\\\\Users\\\\Kumar\\\\Desktop\\\\New folder (2)\\\\Data-Science\\\\Python\\\\EDA\\\\titles.csv')\n"
   ]
  },
  {
   "cell_type": "code",
   "execution_count": 28,
   "metadata": {
    "id": "3iiE2BfeQotn"
   },
   "outputs": [
    {
     "data": {
      "text/html": [
       "<div>\n",
       "<style scoped>\n",
       "    .dataframe tbody tr th:only-of-type {\n",
       "        vertical-align: middle;\n",
       "    }\n",
       "\n",
       "    .dataframe tbody tr th {\n",
       "        vertical-align: top;\n",
       "    }\n",
       "\n",
       "    .dataframe thead th {\n",
       "        text-align: right;\n",
       "    }\n",
       "</style>\n",
       "<table border=\"1\" class=\"dataframe\">\n",
       "  <thead>\n",
       "    <tr style=\"text-align: right;\">\n",
       "      <th></th>\n",
       "      <th>emp_no</th>\n",
       "      <th>title</th>\n",
       "      <th>from_date</th>\n",
       "      <th>to_date</th>\n",
       "    </tr>\n",
       "  </thead>\n",
       "  <tbody>\n",
       "    <tr>\n",
       "      <th>0</th>\n",
       "      <td>10001</td>\n",
       "      <td>Senior Engineer</td>\n",
       "      <td>1986-06-26</td>\n",
       "      <td>9999-01-01</td>\n",
       "    </tr>\n",
       "    <tr>\n",
       "      <th>1</th>\n",
       "      <td>10002</td>\n",
       "      <td>Staff</td>\n",
       "      <td>1996-08-03</td>\n",
       "      <td>9999-01-01</td>\n",
       "    </tr>\n",
       "    <tr>\n",
       "      <th>2</th>\n",
       "      <td>10003</td>\n",
       "      <td>Senior Engineer</td>\n",
       "      <td>1995-12-03</td>\n",
       "      <td>9999-01-01</td>\n",
       "    </tr>\n",
       "    <tr>\n",
       "      <th>3</th>\n",
       "      <td>10004</td>\n",
       "      <td>Engineer</td>\n",
       "      <td>1986-12-01</td>\n",
       "      <td>1995-12-01</td>\n",
       "    </tr>\n",
       "    <tr>\n",
       "      <th>4</th>\n",
       "      <td>10004</td>\n",
       "      <td>Senior Engineer</td>\n",
       "      <td>1995-12-01</td>\n",
       "      <td>9999-01-01</td>\n",
       "    </tr>\n",
       "    <tr>\n",
       "      <th>...</th>\n",
       "      <td>...</td>\n",
       "      <td>...</td>\n",
       "      <td>...</td>\n",
       "      <td>...</td>\n",
       "    </tr>\n",
       "    <tr>\n",
       "      <th>995</th>\n",
       "      <td>10669</td>\n",
       "      <td>Senior Staff</td>\n",
       "      <td>2001-11-17</td>\n",
       "      <td>9999-01-01</td>\n",
       "    </tr>\n",
       "    <tr>\n",
       "      <th>996</th>\n",
       "      <td>10669</td>\n",
       "      <td>Staff</td>\n",
       "      <td>1996-11-17</td>\n",
       "      <td>2001-11-17</td>\n",
       "    </tr>\n",
       "    <tr>\n",
       "      <th>997</th>\n",
       "      <td>10670</td>\n",
       "      <td>Senior Staff</td>\n",
       "      <td>1993-03-23</td>\n",
       "      <td>9999-01-01</td>\n",
       "    </tr>\n",
       "    <tr>\n",
       "      <th>998</th>\n",
       "      <td>10670</td>\n",
       "      <td>Staff</td>\n",
       "      <td>1988-03-23</td>\n",
       "      <td>1993-03-23</td>\n",
       "    </tr>\n",
       "    <tr>\n",
       "      <th>999</th>\n",
       "      <td>10671</td>\n",
       "      <td>Senior Staff</td>\n",
       "      <td>2001-09-13</td>\n",
       "      <td>9999-01-01</td>\n",
       "    </tr>\n",
       "  </tbody>\n",
       "</table>\n",
       "<p>1000 rows × 4 columns</p>\n",
       "</div>"
      ],
      "text/plain": [
       "     emp_no            title   from_date     to_date\n",
       "0     10001  Senior Engineer  1986-06-26  9999-01-01\n",
       "1     10002            Staff  1996-08-03  9999-01-01\n",
       "2     10003  Senior Engineer  1995-12-03  9999-01-01\n",
       "3     10004         Engineer  1986-12-01  1995-12-01\n",
       "4     10004  Senior Engineer  1995-12-01  9999-01-01\n",
       "..      ...              ...         ...         ...\n",
       "995   10669     Senior Staff  2001-11-17  9999-01-01\n",
       "996   10669            Staff  1996-11-17  2001-11-17\n",
       "997   10670     Senior Staff  1993-03-23  9999-01-01\n",
       "998   10670            Staff  1988-03-23  1993-03-23\n",
       "999   10671     Senior Staff  2001-09-13  9999-01-01\n",
       "\n",
       "[1000 rows x 4 columns]"
      ]
     },
     "execution_count": 28,
     "metadata": {},
     "output_type": "execute_result"
    }
   ],
   "source": [
    "titles"
   ]
  },
  {
   "cell_type": "code",
   "execution_count": 29,
   "metadata": {
    "collapsed": true,
    "id": "i9B2jc4fQpl0"
   },
   "outputs": [
    {
     "data": {
      "text/html": [
       "<div>\n",
       "<style scoped>\n",
       "    .dataframe tbody tr th:only-of-type {\n",
       "        vertical-align: middle;\n",
       "    }\n",
       "\n",
       "    .dataframe tbody tr th {\n",
       "        vertical-align: top;\n",
       "    }\n",
       "\n",
       "    .dataframe thead th {\n",
       "        text-align: right;\n",
       "    }\n",
       "</style>\n",
       "<table border=\"1\" class=\"dataframe\">\n",
       "  <thead>\n",
       "    <tr style=\"text-align: right;\">\n",
       "      <th></th>\n",
       "      <th>emp_no</th>\n",
       "      <th>title</th>\n",
       "      <th>from_date</th>\n",
       "      <th>to_date</th>\n",
       "    </tr>\n",
       "  </thead>\n",
       "  <tbody>\n",
       "    <tr>\n",
       "      <th>14</th>\n",
       "      <td>10010</td>\n",
       "      <td>Engineer</td>\n",
       "      <td>1996-11-24</td>\n",
       "      <td>9999-01-01</td>\n",
       "    </tr>\n",
       "    <tr>\n",
       "      <th>15</th>\n",
       "      <td>10011</td>\n",
       "      <td>Staff</td>\n",
       "      <td>1990-01-22</td>\n",
       "      <td>1996-11-09</td>\n",
       "    </tr>\n",
       "  </tbody>\n",
       "</table>\n",
       "</div>"
      ],
      "text/plain": [
       "    emp_no     title   from_date     to_date\n",
       "14   10010  Engineer  1996-11-24  9999-01-01\n",
       "15   10011     Staff  1990-01-22  1996-11-09"
      ]
     },
     "execution_count": 29,
     "metadata": {},
     "output_type": "execute_result"
    }
   ],
   "source": [
    "titles[titles['emp_no'].isin(emp_no_list)]"
   ]
  },
  {
   "cell_type": "code",
   "execution_count": 30,
   "metadata": {
    "id": "WHXeEflbQwlG"
   },
   "outputs": [],
   "source": [
    "# first name , salary (max ) latest salary , hire date , last working if employees present 9999 current emploe , year ex , titels\n",
    "#left join it better split query\n"
   ]
  },
  {
   "cell_type": "code",
   "execution_count": 36,
   "metadata": {},
   "outputs": [
    {
     "data": {
      "text/plain": [
       "1000"
      ]
     },
     "execution_count": 36,
     "metadata": {},
     "output_type": "execute_result"
    }
   ],
   "source": [
    "employees_df = pd.read_csv(r'C:\\Users\\Kumar\\Desktop\\New folder (2)\\Data-Science\\Python\\EDA\\employees.csv')\n",
    "salaries_df = pd.read_csv(r'C:\\Users\\Kumar\\Desktop\\New folder (2)\\Data-Science\\Python\\EDA\\Salaries.csv')\n",
    "titles_df = pd.read_csv(r'C:\\Users\\Kumar\\Desktop\\New folder (2)\\Data-Science\\Python\\EDA\\titles.csv')\n",
    "\n",
    "employees_df.to_sql('employees', conn, if_exists='replace', index=False)\n",
    "salaries_df.to_sql('salaries', conn, if_exists='replace', index=False)\n",
    "titles_df.to_sql('titles', conn, if_exists='replace', index=False)\n"
   ]
  },
  {
   "cell_type": "code",
   "execution_count": 37,
   "metadata": {},
   "outputs": [
    {
     "name": "stdout",
     "output_type": "stream",
     "text": [
      "     first_name      last_name  max_salary  latest_salary   hire_date  \\\n",
      "0         Aamod         Radwan         NaN            NaN  1987-01-27   \n",
      "1     Abdelaziz        Bisiani         NaN            NaN  1988-09-16   \n",
      "2    Abdelwaheb    Riesenhuber         NaN            NaN  1990-02-23   \n",
      "3       Abdulah      Thibadeau         NaN            NaN  1990-12-12   \n",
      "4       Abdulla  Beutelspacher         NaN            NaN  1992-06-14   \n",
      "..          ...            ...         ...            ...         ...   \n",
      "995        Zita       Minakawa         NaN            NaN  1985-09-01   \n",
      "996     Zongyan       Cusworth         NaN            NaN  1990-04-24   \n",
      "997      Zorica          Acton         NaN            NaN  1989-08-05   \n",
      "998       Zsolt        Salinas         NaN            NaN  1985-02-21   \n",
      "999      Zvonko      Nyanchama     81037.0        81037.0  1989-03-31   \n",
      "\n",
      "    last_working_date  years_experience            title  \n",
      "0                None               NaN            Staff  \n",
      "1                None               NaN             None  \n",
      "2                None               NaN     Senior Staff  \n",
      "3                None               NaN            Staff  \n",
      "4                None               NaN             None  \n",
      "..                ...               ...              ...  \n",
      "995              None               NaN             None  \n",
      "996              None               NaN             None  \n",
      "997              None               NaN             None  \n",
      "998              None               NaN     Senior Staff  \n",
      "999  Current Employee              35.0  Senior Engineer  \n",
      "\n",
      "[1000 rows x 8 columns]\n"
     ]
    }
   ],
   "source": [
    "df = pd.read_sql_query(query, conn)\n",
    "print(df)\n"
   ]
  },
  {
   "cell_type": "code",
   "execution_count": 39,
   "metadata": {
    "id": "CGtQxAp17MWw"
   },
   "outputs": [
    {
     "name": "stdout",
     "output_type": "stream",
     "text": [
      "     first_name      last_name  max_salary  latest_salary   hire_date  \\\n",
      "0         Aamod         Radwan         NaN            NaN  1987-01-27   \n",
      "1     Abdelaziz        Bisiani         NaN            NaN  1988-09-16   \n",
      "2    Abdelwaheb    Riesenhuber         NaN            NaN  1990-02-23   \n",
      "3       Abdulah      Thibadeau         NaN            NaN  1990-12-12   \n",
      "4       Abdulla  Beutelspacher         NaN            NaN  1992-06-14   \n",
      "..          ...            ...         ...            ...         ...   \n",
      "995        Zita       Minakawa         NaN            NaN  1985-09-01   \n",
      "996     Zongyan       Cusworth         NaN            NaN  1990-04-24   \n",
      "997      Zorica          Acton         NaN            NaN  1989-08-05   \n",
      "998       Zsolt        Salinas         NaN            NaN  1985-02-21   \n",
      "999      Zvonko      Nyanchama     81037.0        81037.0  1989-03-31   \n",
      "\n",
      "    last_working_date  years_experience            title  \n",
      "0                None               NaN            Staff  \n",
      "1                None               NaN             None  \n",
      "2                None               NaN     Senior Staff  \n",
      "3                None               NaN            Staff  \n",
      "4                None               NaN             None  \n",
      "..                ...               ...              ...  \n",
      "995              None               NaN             None  \n",
      "996              None               NaN             None  \n",
      "997              None               NaN             None  \n",
      "998              None               NaN     Senior Staff  \n",
      "999  Current Employee              35.0  Senior Engineer  \n",
      "\n",
      "[1000 rows x 8 columns]\n"
     ]
    }
   ],
   "source": [
    "query = \"\"\"\n",
    "SELECT\n",
    "    e.first_name,\n",
    "    e.last_name,\n",
    "    MAX(s.salary) AS max_salary,\n",
    "    s.salary AS latest_salary,\n",
    "    e.hire_date,\n",
    "    CASE\n",
    "        WHEN s.to_date = '9999-01-01' THEN 'Current Employee'\n",
    "        ELSE s.to_date\n",
    "    END AS last_working_date,\n",
    "    CASE\n",
    "        WHEN s.to_date = '9999-01-01' THEN strftime('%Y', 'now') - strftime('%Y', e.hire_date)\n",
    "        ELSE strftime('%Y', s.to_date) - strftime('%Y', e.hire_date)\n",
    "    END AS years_experience,\n",
    "    t.title\n",
    "FROM employees e\n",
    "LEFT JOIN (\n",
    "    SELECT emp_no, salary, from_date, to_date\n",
    "    FROM salaries\n",
    "    WHERE to_date = '9999-01-01' OR to_date = (\n",
    "        SELECT MAX(to_date)\n",
    "        FROM salaries AS s2\n",
    "        WHERE s2.emp_no = salaries.emp_no\n",
    "    )\n",
    ") s ON e.emp_no = s.emp_no\n",
    "LEFT JOIN (\n",
    "    SELECT emp_no, title, from_date, to_date\n",
    "    FROM titles\n",
    "    WHERE to_date = '9999-01-01' OR to_date = (\n",
    "        SELECT MAX(to_date)\n",
    "        FROM titles AS t2\n",
    "        WHERE t2.emp_no = titles.emp_no\n",
    "    )\n",
    ") t ON e.emp_no = t.emp_no\n",
    "GROUP BY e.emp_no\n",
    "ORDER BY e.first_name;\n",
    "\"\"\"\n",
    "\n",
    "# Execute the query\n",
    "df = pd.read_sql_query(query, conn)\n",
    "print(df)\n"
   ]
  }
 ],
 "metadata": {
  "colab": {
   "private_outputs": true,
   "provenance": []
  },
  "kernelspec": {
   "display_name": "Python 3",
   "name": "python3"
  },
  "language_info": {
   "codemirror_mode": {
    "name": "ipython",
    "version": 3
   },
   "file_extension": ".py",
   "mimetype": "text/x-python",
   "name": "python",
   "nbconvert_exporter": "python",
   "pygments_lexer": "ipython3",
   "version": "3.11.4"
  }
 },
 "nbformat": 4,
 "nbformat_minor": 0
}
