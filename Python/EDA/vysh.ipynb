{
 "cells": [
  {
   "cell_type": "code",
   "execution_count": null,
   "metadata": {
    "id": "llWyxW6Z5k0j"
   },
   "outputs": [],
   "source": []
  },
  {
   "cell_type": "code",
   "execution_count": null,
   "metadata": {
    "id": "Rm2vv8iQMaRO"
   },
   "outputs": [],
   "source": [
    "import pandas as pd"
   ]
  },
  {
   "cell_type": "code",
   "execution_count": null,
   "metadata": {
    "id": "D9Ao6M6r66jZ"
   },
   "outputs": [],
   "source": [
    "import sqlite3"
   ]
  },
  {
   "cell_type": "code",
   "execution_count": null,
   "metadata": {
    "id": "qfAlPQggNX4i"
   },
   "outputs": [],
   "source": [
    "emp = pd.read_csv('/content/employees.csv')"
   ]
  },
  {
   "cell_type": "code",
   "execution_count": null,
   "metadata": {
    "id": "dTwJXljpNcmG"
   },
   "outputs": [],
   "source": [
    "emp[emp['emp_no']==10010]"
   ]
  },
  {
   "cell_type": "code",
   "execution_count": null,
   "metadata": {
    "id": "GLVg2HfRNjBd"
   },
   "outputs": [],
   "source": [
    "emp_no_list = [10010,10011]\n",
    "emp[emp['emp_no'].isin(emp_no_list)]"
   ]
  },
  {
   "cell_type": "code",
   "execution_count": null,
   "metadata": {
    "id": "DmTG516B7FLM"
   },
   "outputs": [],
   "source": [
    "\n",
    "conn = sqlite3.connect(':memory:')\n",
    "emp.to_sql('employees', conn, index=False, if_exists='replace') \n"
   ]
  },
  {
   "cell_type": "code",
   "execution_count": null,
   "metadata": {
    "id": "GLEIzXeGPo1r"
   },
   "outputs": [],
   "source": [
    "emp.shape"
   ]
  },
  {
   "cell_type": "code",
   "execution_count": null,
   "metadata": {
    "id": "7MHI3PdoNvUe"
   },
   "outputs": [],
   "source": [
    "emp[emp['emp_no'].isin(emp_no_list)]"
   ]
  },
  {
   "cell_type": "code",
   "execution_count": null,
   "metadata": {
    "id": "_rqmvkqdOIXc"
   },
   "outputs": [],
   "source": [
    "salaries = pd.read_csv('/content/Salaries.csv')"
   ]
  },
  {
   "cell_type": "code",
   "execution_count": null,
   "metadata": {
    "id": "9hS-jILAPmm9"
   },
   "outputs": [],
   "source": [
    "salaries.shape"
   ]
  },
  {
   "cell_type": "code",
   "execution_count": null,
   "metadata": {
    "id": "TQ_W7WtAPD3P"
   },
   "outputs": [],
   "source": [
    "\n",
    "salaries[salaries['emp_no'].isin(emp_no_list)]"
   ]
  },
  {
   "cell_type": "code",
   "execution_count": null,
   "metadata": {
    "collapsed": true,
    "id": "wW-cZoUxPHd4"
   },
   "outputs": [],
   "source": [
    "\n",
    "salaries.merge(emp,on='emp_no')\n",
    "\n"
   ]
  },
  {
   "cell_type": "code",
   "execution_count": null,
   "metadata": {
    "id": "E7ECYQ-_PePN"
   },
   "outputs": [],
   "source": [
    "titles = pd.read_csv('/content/titles.csv')"
   ]
  },
  {
   "cell_type": "code",
   "execution_count": null,
   "metadata": {
    "id": "3iiE2BfeQotn"
   },
   "outputs": [],
   "source": [
    "titles"
   ]
  },
  {
   "cell_type": "code",
   "execution_count": null,
   "metadata": {
    "collapsed": true,
    "id": "i9B2jc4fQpl0"
   },
   "outputs": [],
   "source": [
    "titles[titles['emp_no'].isin(emp_no_list)]"
   ]
  },
  {
   "cell_type": "code",
   "execution_count": null,
   "metadata": {
    "id": "WHXeEflbQwlG"
   },
   "outputs": [],
   "source": [
    "# first name , salary (max ) latest salary , hire date , last working if employees present 9999 current emploe , year ex , titels\n",
    "#left join it better split query\n"
   ]
  },
  {
   "cell_type": "code",
   "execution_count": null,
   "metadata": {
    "id": "V6pkCoCb7bcf"
   },
   "outputs": [],
   "source": []
  },
  {
   "cell_type": "code",
   "execution_count": null,
   "metadata": {
    "id": "CGtQxAp17MWw"
   },
   "outputs": [],
   "source": [
    "query = \"\"\"\n",
    "SELECT\n",
    "    e.first_name,\n",
    "    e.last_name,\n",
    "    MAX(s.salary) AS max_salary,\n",
    "    s.salary AS latest_salary,\n",
    "    e.hire_date,\n",
    "    CASE\n",
    "        WHEN s.to_date = '9999-01-01' THEN 'Current Employee'\n",
    "        ELSE s.to_date\n",
    "    END AS last_working_date,\n",
    "    CASE\n",
    "        WHEN s.to_date = '9999-01-01' THEN strftime('%Y', 'now') - strftime('%Y', e.hire_date)\n",
    "        ELSE strftime('%Y', s.to_date) - strftime('%Y', e.hire_date)\n",
    "    END AS years_experience,\n",
    "    t.title\n",
    "FROM employees e\n",
    "LEFT JOIN (\n",
    "    SELECT emp_no, salary, from_date, to_date\n",
    "    FROM salaries\n",
    "    WHERE to_date = '9999-01-01' OR to_date = (\n",
    "        SELECT MAX(to_date)\n",
    "        FROM salaries AS s2\n",
    "        WHERE s2.emp_no = salaries.emp_no\n",
    "    )\n",
    ") s ON e.emp_no = s.emp_no\n",
    "LEFT JOIN (\n",
    "    SELECT emp_no, title, from_date, to_date\n",
    "    FROM titles\n",
    "    WHERE to_date = '9999-01-01' OR to_date = (\n",
    "        SELECT MAX(to_date)\n",
    "        FROM titles AS t2\n",
    "        WHERE t2.emp_no = titles.emp_no\n",
    "    )\n",
    ") t ON e.emp_no = t.emp_no\n",
    "GROUP BY e.emp_no\n",
    "ORDER BY e.first_name;\n",
    "\"\"\"\n",
    "\n",
    "# Execute the query\n",
    "df = pd.read_sql_query(query, conn)\n",
    "print(df)\n"
   ]
  },
  {
   "cell_type": "code",
   "execution_count": null,
   "metadata": {
    "id": "G6b_zgmA8PN-"
   },
   "outputs": [],
   "source": [
    "# List all tables in the database\n",
    "tables = pd.read_sql_query(\"SELECT name FROM sqlite_master WHERE type='table';\", conn)\n",
    "print(tables)\n"
   ]
  }
 ],
 "metadata": {
  "colab": {
   "private_outputs": true,
   "provenance": []
  },
  "kernelspec": {
   "display_name": "Python 3",
   "name": "python3"
  },
  "language_info": {
   "name": "python"
  }
 },
 "nbformat": 4,
 "nbformat_minor": 0
}
