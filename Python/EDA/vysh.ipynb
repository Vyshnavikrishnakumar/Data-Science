{
  "nbformat": 4,
  "nbformat_minor": 0,
  "metadata": {
    "colab": {
      "private_outputs": true,
      "provenance": []
    },
    "kernelspec": {
      "name": "python3",
      "display_name": "Python 3"
    },
    "language_info": {
      "name": "python"
    }
  },
  "cells": [
    {
      "cell_type": "code",
      "source": [],
      "metadata": {
        "id": "llWyxW6Z5k0j"
      },
      "execution_count": null,
      "outputs": []
    },
    {
      "cell_type": "code",
      "execution_count": null,
      "metadata": {
        "id": "Rm2vv8iQMaRO"
      },
      "outputs": [],
      "source": [
        "import pandas as pd"
      ]
    },
    {
      "cell_type": "code",
      "source": [
        "import sqlite3"
      ],
      "metadata": {
        "id": "D9Ao6M6r66jZ"
      },
      "execution_count": null,
      "outputs": []
    },
    {
      "cell_type": "code",
      "source": [
        "emp = pd.read_csv('/content/employees.csv')"
      ],
      "metadata": {
        "id": "qfAlPQggNX4i"
      },
      "execution_count": null,
      "outputs": []
    },
    {
      "cell_type": "code",
      "source": [
        "emp[emp['emp_no']==10010]"
      ],
      "metadata": {
        "id": "dTwJXljpNcmG"
      },
      "execution_count": null,
      "outputs": []
    },
    {
      "cell_type": "code",
      "source": [
        "emp_no_list = [10010,10011]\n",
        "emp[emp['emp_no'].isin(emp_no_list)]"
      ],
      "metadata": {
        "id": "GLVg2HfRNjBd"
      },
      "execution_count": null,
      "outputs": []
    },
    {
      "cell_type": "code",
      "source": [
        "# Connect to SQLite\n",
        "conn = sqlite3.connect(':memory:')  # Using in-memory database\n",
        "emp.to_sql('employees', conn, index=False, if_exists='replace')  # Load data into SQLite\n"
      ],
      "metadata": {
        "id": "DmTG516B7FLM"
      },
      "execution_count": null,
      "outputs": []
    },
    {
      "cell_type": "code",
      "source": [
        "emp.shape"
      ],
      "metadata": {
        "id": "GLEIzXeGPo1r"
      },
      "execution_count": null,
      "outputs": []
    },
    {
      "cell_type": "code",
      "source": [
        "emp[emp['emp_no'].isin(emp_no_list)]"
      ],
      "metadata": {
        "id": "7MHI3PdoNvUe"
      },
      "execution_count": null,
      "outputs": []
    },
    {
      "cell_type": "code",
      "source": [
        "salaries = pd.read_csv('/content/Salaries.csv')"
      ],
      "metadata": {
        "id": "_rqmvkqdOIXc"
      },
      "execution_count": null,
      "outputs": []
    },
    {
      "cell_type": "code",
      "source": [
        "salaries.shape"
      ],
      "metadata": {
        "id": "9hS-jILAPmm9"
      },
      "execution_count": null,
      "outputs": []
    },
    {
      "cell_type": "code",
      "source": [
        "\n",
        "salaries[salaries['emp_no'].isin(emp_no_list)]"
      ],
      "metadata": {
        "id": "TQ_W7WtAPD3P"
      },
      "execution_count": null,
      "outputs": []
    },
    {
      "cell_type": "code",
      "source": [
        "#join with emp with salaries\n",
        "salaries.merge(emp,on='emp_no')\n",
        "\n",
        "# it can possibale there some null value #target table is  , source  table admin table\n",
        "# employes table"
      ],
      "metadata": {
        "id": "wW-cZoUxPHd4",
        "collapsed": true
      },
      "execution_count": null,
      "outputs": []
    },
    {
      "cell_type": "code",
      "source": [
        "titles = pd.read_csv('/content/titles.csv')"
      ],
      "metadata": {
        "id": "E7ECYQ-_PePN"
      },
      "execution_count": null,
      "outputs": []
    },
    {
      "cell_type": "code",
      "source": [
        "titles"
      ],
      "metadata": {
        "id": "3iiE2BfeQotn"
      },
      "execution_count": null,
      "outputs": []
    },
    {
      "cell_type": "code",
      "source": [
        "titles[titles['emp_no'].isin(emp_no_list)]"
      ],
      "metadata": {
        "id": "i9B2jc4fQpl0",
        "collapsed": true
      },
      "execution_count": null,
      "outputs": []
    },
    {
      "cell_type": "code",
      "source": [
        "# first name , salary (max ) latest salary , hire date , last working if employees present 9999 current emploe , year ex , titels\n",
        "#left join it better split query\n"
      ],
      "metadata": {
        "id": "WHXeEflbQwlG"
      },
      "execution_count": null,
      "outputs": []
    },
    {
      "cell_type": "code",
      "source": [
        "t"
      ],
      "metadata": {
        "id": "V6pkCoCb7bcf"
      },
      "execution_count": null,
      "outputs": []
    },
    {
      "cell_type": "code",
      "source": [
        "query = \"\"\"\n",
        "SELECT\n",
        "    e.first_name,\n",
        "    e.last_name,\n",
        "    MAX(s.salary) AS max_salary,\n",
        "    s.salary AS latest_salary,\n",
        "    e.hire_date,\n",
        "    CASE\n",
        "        WHEN s.to_date = '9999-01-01' THEN 'Current Employee'\n",
        "        ELSE s.to_date\n",
        "    END AS last_working_date,\n",
        "    CASE\n",
        "        WHEN s.to_date = '9999-01-01' THEN strftime('%Y', 'now') - strftime('%Y', e.hire_date)\n",
        "        ELSE strftime('%Y', s.to_date) - strftime('%Y', e.hire_date)\n",
        "    END AS years_experience,\n",
        "    t.title\n",
        "FROM employees e\n",
        "LEFT JOIN (\n",
        "    SELECT emp_no, salary, from_date, to_date\n",
        "    FROM salaries\n",
        "    WHERE to_date = '9999-01-01' OR to_date = (\n",
        "        SELECT MAX(to_date)\n",
        "        FROM salaries AS s2\n",
        "        WHERE s2.emp_no = salaries.emp_no\n",
        "    )\n",
        ") s ON e.emp_no = s.emp_no\n",
        "LEFT JOIN (\n",
        "    SELECT emp_no, title, from_date, to_date\n",
        "    FROM titles\n",
        "    WHERE to_date = '9999-01-01' OR to_date = (\n",
        "        SELECT MAX(to_date)\n",
        "        FROM titles AS t2\n",
        "        WHERE t2.emp_no = titles.emp_no\n",
        "    )\n",
        ") t ON e.emp_no = t.emp_no\n",
        "GROUP BY e.emp_no\n",
        "ORDER BY e.first_name;\n",
        "\"\"\"\n",
        "\n",
        "# Execute the query\n",
        "df = pd.read_sql_query(query, conn)\n",
        "print(df)\n"
      ],
      "metadata": {
        "id": "CGtQxAp17MWw"
      },
      "execution_count": null,
      "outputs": []
    },
    {
      "cell_type": "code",
      "source": [
        "# List all tables in the database\n",
        "tables = pd.read_sql_query(\"SELECT name FROM sqlite_master WHERE type='table';\", conn)\n",
        "print(tables)\n"
      ],
      "metadata": {
        "id": "G6b_zgmA8PN-"
      },
      "execution_count": null,
      "outputs": []
    }
  ]
}